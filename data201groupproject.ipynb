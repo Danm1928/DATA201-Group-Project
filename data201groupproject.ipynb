{
 "cells": [
  {
   "cell_type": "code",
   "execution_count": 7,
   "id": "386e1082-013f-4a3c-acba-cd07f08df338",
   "metadata": {},
   "outputs": [
    {
     "name": "stdout",
     "output_type": "stream",
     "text": [
      "\n",
      "The downloaded binary packages are in\n",
      "\t/var/folders/3p/9ws5_w1j6ms438bp7lyh7dsw0000gn/T//RtmpNnNdwR/downloaded_packages\n",
      "\n",
      "The downloaded binary packages are in\n",
      "\t/var/folders/3p/9ws5_w1j6ms438bp7lyh7dsw0000gn/T//RtmpNnNdwR/downloaded_packages\n"
     ]
    }
   ],
   "source": [
    "install.packages(\"tidyverse\")\n",
    "install.packages(\"remotes\")"
   ]
  },
  {
   "cell_type": "code",
   "execution_count": null,
   "id": "b04418cd-c6aa-4e9a-a8d1-90e138c6d1f8",
   "metadata": {},
   "outputs": [],
   "source": [
    "install.packages(\"magrittr\")\n",
    "install.packages(\"purrr\")\n",
    "install.packages(\"glue\")\n",
    "install.packages(\"stringr\")\n",
    "library(magrittr) # better handling of pipes\n",
    "library(purrr) # to work with lists and map functions\n",
    "library(glue) # to paste strings\n",
    "library(stringr) # to hand strings\n",
    "library(ggplot)\n",
    "library(jsonlite)"
   ]
  },
  {
   "cell_type": "code",
   "execution_count": 6,
   "id": "c1fc9d1e-76c4-43cb-95eb-6e4461c770c4",
   "metadata": {},
   "outputs": [],
   "source": [
    "cyclefacilitynetworkurl <- \"https://data-atgis.opendata.arcgis.com/datasets/ATgis::cycle-facility-network/explore?location=-36.737508%2C174.806210%2C10.73\"\n",
    "cyclefacilitynetworkurl <- read_html (cycle)\n",
    "\n",
    "#cycle_rawdata <- 'https://data-atgis.opendata.arcgis.com/datasets/ATgis::cycle-facility-network/explore?location=-36.737508%2C174.806210%2C10.73' %>%\n",
    "#read_csv()\n",
    "cycle <- glue(cyclefacilitynetwork)\n",
    "\n",
    "cyclefacilitynetwork = GET(url = \"https://data-atgis.opendata.arcgis.com/datasets/ATgis::cycle-facility-network/explore?location=-36.737508%2C174.806210%2C10.73\")\n",
    "cyclefacilitynetwork\n"
   ]
  },
  {
   "cell_type": "code",
   "execution_count": null,
   "id": "0b920cfb-ddbd-4227-9ce9-3c74aebffef4",
   "metadata": {},
   "outputs": [],
   "source": [
    "cyclefacilitynetwork <- cycle_json %>% \n",
    "    fromJSON()\n",
    "cycle_json %>% \n",
    "    head()\n",
    "\n",
    "cycle_ap <- data.frame(cycle_json[2]) %>% \n",
    "    filter(entries.roadname == \"Bay Connection\")\n",
    "cycle_ap"
   ]
  },
  {
   "cell_type": "code",
   "execution_count": null,
   "id": "e66d2f3d-ee48-4c93-b8d0-5a2a7d071f35",
   "metadata": {},
   "outputs": [],
   "source": [
    "cycle_json <- fromJSON(cyclefacilitynetwork, flatten = TRUE)\n",
    "\n",
    "cycle_json %>%\n",
    "    glimpse()\n",
    "cycle_json %>%\n",
    "    typeof()"
   ]
  },
  {
   "cell_type": "code",
   "execution_count": null,
   "id": "cec6e702-e463-421c-b201-8eb19f4c0af6",
   "metadata": {},
   "outputs": [],
   "source": [
    "constructionyear <- cyclefacilitynetwork %>% html_nodes (\".date\") %>% html_text()\n",
    "index <-1:18\n",
    "cons_date <- dates[index%%2==0]\n",
    "#date\n",
    "\n",
    "roadname <- cyclefacilitynetwork %>% html_nodes(\".larger\") %>% html_text()\n",
    "index <- 1:18\n",
    "cos_name <- RoadName[index%%2==0]\n",
    "cos_name"
   ]
  },
  {
   "cell_type": "code",
   "execution_count": null,
   "id": "0bc4ffa4-af55-429e-97a7-ef71b384278d",
   "metadata": {},
   "outputs": [],
   "source": [
    "cycle_df = as.data.frame(cycle_json$features)\n",
    "cycle_df = as.data.frame(cycle_json$fields)\n",
    "\n",
    "cycle_df = cyclenetwork_df %>% filter(!is.na(roadname) &is.na(vehiclespeedlimit))\n",
    "cycle_df %>% vis_miss(cluster = TRUE)\n",
    "cycle_df"
   ]
  },
  {
   "cell_type": "code",
   "execution_count": null,
   "id": "fc97bf36-8478-4c7a-aa5d-ec2176b4f102",
   "metadata": {},
   "outputs": [],
   "source": [
    "cycle_df <-tibble(roadname = cos_name, date=date ) "
   ]
  },
  {
   "cell_type": "code",
   "execution_count": null,
   "id": "77ff81d3-85f1-4512-ab96-6b5e6a9472ec",
   "metadata": {},
   "outputs": [],
   "source": [
    "titles <- games %>% \n",
    "  html_nodes(\".clamp-summary-wrap > .title > h3\") %>% \n",
    "  html_text()\n",
    "titles %>% \n",
    "    head() "
   ]
  }
 ],
 "metadata": {
  "kernelspec": {
   "display_name": "R",
   "language": "R",
   "name": "ir"
  },
  "language_info": {
   "codemirror_mode": "r",
   "file_extension": ".r",
   "mimetype": "text/x-r-source",
   "name": "R",
   "pygments_lexer": "r",
   "version": "4.2.1"
  }
 },
 "nbformat": 4,
 "nbformat_minor": 5
}
