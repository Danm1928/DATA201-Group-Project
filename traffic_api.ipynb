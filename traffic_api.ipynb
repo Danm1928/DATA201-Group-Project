{
 "cells": [
  {
   "cell_type": "code",
   "execution_count": 54,
   "id": "82f11cf9-16a7-48d5-a30d-25b155d26526",
   "metadata": {},
   "outputs": [],
   "source": [
    "# initialising libraries\n",
    "library(tidyverse)\n",
    "library(rvest)\n",
    "library(readr)\n",
    "library(skimr)\n",
    "library(visdat)\n",
    "library(purrr)\n",
    "library(stringr)\n",
    "library(glue)\n",
    "library(jsonlite)\n",
    "library(httr)"
   ]
  },
  {
   "cell_type": "code",
   "execution_count": 2,
   "id": "23e7912e-65a5-4bd6-9491-cc36ea57abc2",
   "metadata": {
    "tags": []
   },
   "outputs": [],
   "source": [
    "# setting up our API query for Auckland Transport\n",
    "api_query <- 'https://services2.arcgis.com/JkPEgZJGxhSjYOo0/arcgis/rest/services/TrafficService/FeatureServer/0/query?where=1%3D1&outFields=*&outSR=4326&f=json'"
   ]
  },
  {
   "cell_type": "code",
   "execution_count": 84,
   "id": "36926a40-e8ff-4e21-9d11-3ce1ec147987",
   "metadata": {
    "scrolled": true,
    "tags": []
   },
   "outputs": [
    {
     "name": "stdout",
     "output_type": "stream",
     "text": [
      "List of 8\n",
      " $ objectIdFieldName    : chr \"OBJECTID\"\n",
      " $ uniqueIdField        :List of 2\n",
      "  ..$ name              : chr \"OBJECTID\"\n",
      "  ..$ isSystemMaintained: logi TRUE\n",
      " $ globalIdFieldName    : chr \"\"\n",
      " $ geometryType         : chr \"esriGeometryPoint\"\n",
      " $ spatialReference     :List of 2\n",
      "  ..$ wkid      : int 4326\n",
      "  ..$ latestWkid: int 4326\n",
      " $ fields               :'data.frame':\t22 obs. of  7 variables:\n",
      "  ..$ name        : chr [1:22] \"OBJECTID\" \"carr_way_no\" \"road_id\" \"road_name\" ...\n",
      "  ..$ type        : chr [1:22] \"esriFieldTypeOID\" \"esriFieldTypeInteger\" \"esriFieldTypeInteger\" \"esriFieldTypeString\" ...\n",
      "  ..$ alias       : chr [1:22] \"OBJECTID\" \"CARRIAGEWAY NO\" \"Road ID\" \"Road Name\" ...\n",
      "  ..$ sqlType     : chr [1:22] \"sqlTypeOther\" \"sqlTypeOther\" \"sqlTypeOther\" \"sqlTypeOther\" ...\n",
      "  ..$ domain      : logi [1:22] NA NA NA NA NA NA ...\n",
      "  ..$ defaultValue: logi [1:22] NA NA NA NA NA NA ...\n",
      "  ..$ length      : int [1:22] NA NA NA 100 100 100 NA 10 8 5 ...\n",
      " $ exceededTransferLimit: logi TRUE\n",
      " $ features             :'data.frame':\t1000 obs. of  24 variables:\n",
      "  ..$ attributes.OBJECTID      : int [1:1000] 1 2 3 4 5 6 7 8 9 10 ...\n",
      "  ..$ attributes.carr_way_no   : int [1:1000] 23788 34813 58 1826 1627 1768 133 1512 1384 1367 ...\n",
      "  ..$ attributes.road_id       : int [1:1000] 50888 70028 70028 70028 70028 70028 70028 70070 70121 70129 ...\n",
      "  ..$ attributes.road_name     : chr [1:1000] \"BRAMLEY DR\" \"AWHITU RD\" \"AWHITU RD\" \"AWHITU RD\" ...\n",
      "  ..$ attributes.start_name    : chr [1:1000] \"FIELDING CRES (WEST)\" \"KING ST (SUMPS RHS)\" \"WAIPIPI WHARF RD (POWERPOLE LHS)\" \"CRAIG RD\" ...\n",
      "  ..$ attributes.end_name      : chr [1:1000] \"FIELDING CRES (EAST)\" \"MILLBROOK DR\" \"CRAIG RD\" \"GORDON RD\" ...\n",
      "  ..$ attributes.location      : int [1:1000] 522 230 5830 6522 23199 26056 30814 50 50 85 ...\n",
      "  ..$ attributes.latest        : chr [1:1000] \"Yes\" \"Yes\" \"Yes\" \"Yes\" ...\n",
      "  ..$ attributes.count_date    : num [1:1000] 1.02e+12 1.33e+12 1.09e+12 6.40e+11 8.56e+11 ...\n",
      "  ..$ attributes.peak_hour     : chr [1:1000] NA \"1700\" \"08:00\" NA ...\n",
      "  ..$ attributes.count_duration: chr [1:1000] NA NA NA NA ...\n",
      "  ..$ attributes.adt           : int [1:1000] 451 3831 613 1380 858 844 437 242 37 196 ...\n",
      "  ..$ attributes.peaktraffic   : int [1:1000] NA 407 86 NA NA NA 0 51 11 0 ...\n",
      "  ..$ attributes.pccar         : int [1:1000] NA 92 81 81 81 86 92 92 0 92 ...\n",
      "  ..$ attributes.pclcv         : int [1:1000] NA 4 9 9 9 8 3 4 97 5 ...\n",
      "  ..$ attributes.pcmcv         : int [1:1000] NA 3 3 3 3 3 4 3 3 2 ...\n",
      "  ..$ attributes.pchcvi        : int [1:1000] NA 1 4 4 4 2 0 1 0 1 ...\n",
      "  ..$ attributes.pchcvii       : int [1:1000] NA 0 3 3 3 1 1 0 0 0 ...\n",
      "  ..$ attributes.pcbus         : int [1:1000] NA 0 0 0 0 0 0 0 0 0 ...\n",
      "  ..$ attributes.pcheavy       : int [1:1000] NA 4 10 10 10 6 5 4 3 3 ...\n",
      "  ..$ attributes.NZTMX         : num [1:1000] 1767775 1752175 1749564 1749377 1742975 ...\n",
      "  ..$ attributes.NZTMY         : num [1:1000] 5915373 5876739 5881077 5881706 5889542 ...\n",
      "  ..$ geometry.x               : num [1:1000] 175 175 175 175 175 ...\n",
      "  ..$ geometry.y               : num [1:1000] -36.9 -37.2 -37.2 -37.2 -37.1 ...\n"
     ]
    }
   ],
   "source": [
    "traffic_raw <- fromJSON(api_query, flatten = TRUE)\n",
    "\n",
    "traffic_raw %>%\n",
    "    glimpse()"
   ]
  },
  {
   "cell_type": "code",
   "execution_count": 91,
   "id": "36883106-80bf-4a64-b16a-042febab0891",
   "metadata": {},
   "outputs": [
    {
     "name": "stdout",
     "output_type": "stream",
     "text": [
      "Rows: 1,000\n",
      "Columns: 24\n",
      "$ attributes.OBJECTID       \u001b[3m\u001b[90m<int>\u001b[39m\u001b[23m 1, 2, 3, 4, 5, 6, 7, 8, 9, 10, 11, 12, 13, 1~\n",
      "$ attributes.carr_way_no    \u001b[3m\u001b[90m<int>\u001b[39m\u001b[23m 23788, 34813, 58, 1826, 1627, 1768, 133, 151~\n",
      "$ attributes.road_id        \u001b[3m\u001b[90m<int>\u001b[39m\u001b[23m 50888, 70028, 70028, 70028, 70028, 70028, 70~\n",
      "$ attributes.road_name      \u001b[3m\u001b[90m<chr>\u001b[39m\u001b[23m \"BRAMLEY DR\", \"AWHITU RD\", \"AWHITU RD\", \"AWH~\n",
      "$ attributes.start_name     \u001b[3m\u001b[90m<chr>\u001b[39m\u001b[23m \"FIELDING CRES (WEST)\", \"KING ST (SUMPS RHS)~\n",
      "$ attributes.end_name       \u001b[3m\u001b[90m<chr>\u001b[39m\u001b[23m \"FIELDING CRES (EAST)\", \"MILLBROOK DR\", \"CRA~\n",
      "$ attributes.location       \u001b[3m\u001b[90m<int>\u001b[39m\u001b[23m 522, 230, 5830, 6522, 23199, 26056, 30814, 5~\n",
      "$ attributes.latest         \u001b[3m\u001b[90m<chr>\u001b[39m\u001b[23m \"Yes\", \"Yes\", \"Yes\", \"Yes\", \"Yes\", \"Yes\", \"Y~\n",
      "$ attributes.count_date     \u001b[3m\u001b[90m<dbl>\u001b[39m\u001b[23m 1.016669e+12, 1.332374e+12, 1.086912e+12, 6.~\n",
      "$ attributes.peak_hour      \u001b[3m\u001b[90m<chr>\u001b[39m\u001b[23m NA, \"1700\", \"08:00\", NA, NA, NA, \"1300\", \"15~\n",
      "$ attributes.count_duration \u001b[3m\u001b[90m<chr>\u001b[39m\u001b[23m NA, NA, NA, NA, NA, NA, NA, NA, NA, NA, NA, ~\n",
      "$ attributes.adt            \u001b[3m\u001b[90m<int>\u001b[39m\u001b[23m 451, 3831, 613, 1380, 858, 844, 437, 242, 37~\n",
      "$ attributes.peaktraffic    \u001b[3m\u001b[90m<int>\u001b[39m\u001b[23m NA, 407, 86, NA, NA, NA, 0, 51, 11, 0, 120, ~\n",
      "$ attributes.pccar          \u001b[3m\u001b[90m<int>\u001b[39m\u001b[23m NA, 92, 81, 81, 81, 86, 92, 92, 0, 92, 89, 8~\n",
      "$ attributes.pclcv          \u001b[3m\u001b[90m<int>\u001b[39m\u001b[23m NA, 4, 9, 9, 9, 8, 3, 4, 97, 5, 2, 9, 2, 9, ~\n",
      "$ attributes.pcmcv          \u001b[3m\u001b[90m<int>\u001b[39m\u001b[23m NA, 3, 3, 3, 3, 3, 4, 3, 3, 2, 8, 3, 4, 3, 5~\n",
      "$ attributes.pchcvi         \u001b[3m\u001b[90m<int>\u001b[39m\u001b[23m NA, 1, 4, 4, 4, 2, 0, 1, 0, 1, 1, 4, 1, 4, 1~\n",
      "$ attributes.pchcvii        \u001b[3m\u001b[90m<int>\u001b[39m\u001b[23m NA, 0, 3, 3, 3, 1, 1, 0, 0, 0, 0, 3, 0, 3, 1~\n",
      "$ attributes.pcbus          \u001b[3m\u001b[90m<int>\u001b[39m\u001b[23m NA, 0, 0, 0, 0, 0, 0, 0, 0, 0, 0, 0, 0, 0, 0~\n",
      "$ attributes.pcheavy        \u001b[3m\u001b[90m<int>\u001b[39m\u001b[23m NA, 4, 10, 10, 10, 6, 5, 4, 3, 3, 9, 10, 5, ~\n",
      "$ attributes.NZTMX          \u001b[3m\u001b[90m<dbl>\u001b[39m\u001b[23m 1767775, 1752175, 1749564, 1749377, 1742975,~\n",
      "$ attributes.NZTMY          \u001b[3m\u001b[90m<dbl>\u001b[39m\u001b[23m 5915373, 5876739, 5881077, 5881706, 5889542,~\n",
      "$ geometry.x                \u001b[3m\u001b[90m<dbl>\u001b[39m\u001b[23m 174.8829, 174.7157, 174.6854, 174.6832, 174.~\n",
      "$ geometry.y                \u001b[3m\u001b[90m<dbl>\u001b[39m\u001b[23m -36.89272, -37.24347, -37.20481, -37.19917, ~\n"
     ]
    }
   ],
   "source": [
    "# two elements of interest, fields and features \n",
    "# fields seems to be a dictionary of sorts, and features has the actual data\n",
    "# turning these into dataframes\n",
    "traffic_fields <- as.data.frame(traffic_raw$fields)\n",
    "traffic_data <- as.data.frame(traffic_raw$features)\n",
    "traffic_data %>%\n",
    "    glimpse()"
   ]
  },
  {
   "cell_type": "code",
   "execution_count": 96,
   "id": "dc0605de-4c36-4426-8f34-af860a6cd701",
   "metadata": {
    "scrolled": true,
    "tags": []
   },
   "outputs": [
    {
     "name": "stdout",
     "output_type": "stream",
     "text": [
      "Rows: 1,000\n",
      "Columns: 24\n",
      "$ OBJECTID                 \u001b[3m\u001b[90m<int>\u001b[39m\u001b[23m 1, 2, 3, 4, 5, 6, 7, 8, 9, 10, 11, 12, 13, 14~\n",
      "$ `CARRIAGEWAY NO`         \u001b[3m\u001b[90m<int>\u001b[39m\u001b[23m 23788, 34813, 58, 1826, 1627, 1768, 133, 1512~\n",
      "$ `Road ID`                \u001b[3m\u001b[90m<int>\u001b[39m\u001b[23m 50888, 70028, 70028, 70028, 70028, 70028, 700~\n",
      "$ `Road Name`              \u001b[3m\u001b[90m<chr>\u001b[39m\u001b[23m \"BRAMLEY DR\", \"AWHITU RD\", \"AWHITU RD\", \"AWHI~\n",
      "$ `Carriageway Start Name` \u001b[3m\u001b[90m<chr>\u001b[39m\u001b[23m \"FIELDING CRES (WEST)\", \"KING ST (SUMPS RHS)\"~\n",
      "$ `Carriageway End Name`   \u001b[3m\u001b[90m<chr>\u001b[39m\u001b[23m \"FIELDING CRES (EAST)\", \"MILLBROOK DR\", \"CRAI~\n",
      "$ Location                 \u001b[3m\u001b[90m<int>\u001b[39m\u001b[23m 522, 230, 5830, 6522, 23199, 26056, 30814, 50~\n",
      "$ `Latest Count`           \u001b[3m\u001b[90m<chr>\u001b[39m\u001b[23m \"Yes\", \"Yes\", \"Yes\", \"Yes\", \"Yes\", \"Yes\", \"Ye~\n",
      "$ `Count Date`             \u001b[3m\u001b[90m<dbl>\u001b[39m\u001b[23m 1.016669e+12, 1.332374e+12, 1.086912e+12, 6.4~\n",
      "$ `Peak Hour`              \u001b[3m\u001b[90m<chr>\u001b[39m\u001b[23m NA, \"1700\", \"08:00\", NA, NA, NA, \"1300\", \"15:~\n",
      "$ `Count Duration`         \u001b[3m\u001b[90m<chr>\u001b[39m\u001b[23m NA, NA, NA, NA, NA, NA, NA, NA, NA, NA, NA, N~\n",
      "$ ADT                      \u001b[3m\u001b[90m<int>\u001b[39m\u001b[23m 451, 3831, 613, 1380, 858, 844, 437, 242, 37,~\n",
      "$ `Peak Traffic`           \u001b[3m\u001b[90m<int>\u001b[39m\u001b[23m NA, 407, 86, NA, NA, NA, 0, 51, 11, 0, 120, N~\n",
      "$ `Car (%)`                \u001b[3m\u001b[90m<int>\u001b[39m\u001b[23m NA, 92, 81, 81, 81, 86, 92, 92, 0, 92, 89, 81~\n",
      "$ `LCV (%)`                \u001b[3m\u001b[90m<int>\u001b[39m\u001b[23m NA, 4, 9, 9, 9, 8, 3, 4, 97, 5, 2, 9, 2, 9, 3~\n",
      "$ `MCV (%)`                \u001b[3m\u001b[90m<int>\u001b[39m\u001b[23m NA, 3, 3, 3, 3, 3, 4, 3, 3, 2, 8, 3, 4, 3, 5,~\n",
      "$ `HCVI (%)`               \u001b[3m\u001b[90m<int>\u001b[39m\u001b[23m NA, 1, 4, 4, 4, 2, 0, 1, 0, 1, 1, 4, 1, 4, 1,~\n",
      "$ `HCVII (%)`              \u001b[3m\u001b[90m<int>\u001b[39m\u001b[23m NA, 0, 3, 3, 3, 1, 1, 0, 0, 0, 0, 3, 0, 3, 1,~\n",
      "$ `Bus (%)`                \u001b[3m\u001b[90m<int>\u001b[39m\u001b[23m NA, 0, 0, 0, 0, 0, 0, 0, 0, 0, 0, 0, 0, 0, 0,~\n",
      "$ `HCV Total (%)`          \u001b[3m\u001b[90m<int>\u001b[39m\u001b[23m NA, 4, 10, 10, 10, 6, 5, 4, 3, 3, 9, 10, 5, 1~\n",
      "$ `X Coordinate NZTM`      \u001b[3m\u001b[90m<dbl>\u001b[39m\u001b[23m 1767775, 1752175, 1749564, 1749377, 1742975, ~\n",
      "$ `Y Coordinate NZTM`      \u001b[3m\u001b[90m<dbl>\u001b[39m\u001b[23m 5915373, 5876739, 5881077, 5881706, 5889542, ~\n",
      "$ NA                       \u001b[3m\u001b[90m<dbl>\u001b[39m\u001b[23m 174.8829, 174.7157, 174.6854, 174.6832, 174.6~\n",
      "$ NA                       \u001b[3m\u001b[90m<dbl>\u001b[39m\u001b[23m -36.89272, -37.24347, -37.20481, -37.19917, -~\n"
     ]
    }
   ],
   "source": [
    "# the column names of traffic_data could be more readable, currently they are 'attributes.OBJECTID, attributes.carr_way_no' etc. \n",
    "# luckily we have the alias column in traffic_fields, let's use that\n",
    "colnames(traffic_data) <- (traffic_fields$alias) \n",
    "\n",
    "traffic_data %>%\n",
    "    glimpse()\n"
   ]
  },
  {
   "cell_type": "code",
   "execution_count": null,
   "id": "4d2b490c-4bbb-45ca-8c59-e3d4c4f201a6",
   "metadata": {
    "scrolled": true,
    "tags": []
   },
   "outputs": [],
   "source": [
    "# need to change last two column names, \n",
    "# make  'Count Date' read as date instead of dbl,\n",
    "# standardise 'Peak Hour',\n",
    "# change NA values to proper missing values"
   ]
  },
  {
   "cell_type": "code",
   "execution_count": null,
   "id": "b907accc-a8ca-4d2a-9a87-8a947e7078da",
   "metadata": {},
   "outputs": [],
   "source": []
  }
 ],
 "metadata": {
  "kernelspec": {
   "display_name": "R",
   "language": "R",
   "name": "ir"
  },
  "language_info": {
   "codemirror_mode": "r",
   "file_extension": ".r",
   "mimetype": "text/x-r-source",
   "name": "R",
   "pygments_lexer": "r",
   "version": "4.2.1"
  }
 },
 "nbformat": 4,
 "nbformat_minor": 5
}
