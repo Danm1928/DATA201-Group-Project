{
 "cells": [
  {
   "cell_type": "code",
   "execution_count": 65,
   "id": "6e147af9-74d1-410c-8731-57dfd3c9da85",
   "metadata": {},
   "outputs": [
    {
     "ename": "ERROR",
     "evalue": "Error in value[[3L]](cond): Package ‘jsonlite’ version 1.8.2 cannot be unloaded:\n Error in unloadNamespace(package) : namespace ‘jsonlite’ is imported by ‘tidyverse’, ‘IRkernel’, ‘repr’ so cannot be unloaded\n\n",
     "output_type": "error",
     "traceback": [
      "Error in value[[3L]](cond): Package ‘jsonlite’ version 1.8.2 cannot be unloaded:\n Error in unloadNamespace(package) : namespace ‘jsonlite’ is imported by ‘tidyverse’, ‘IRkernel’, ‘repr’ so cannot be unloaded\n\nTraceback:\n",
      "1. library(jsonlite)",
      "2. tryCatch(unloadNamespace(package), error = function(e) {\n .     P <- if (!is.null(cc <- conditionCall(e))) \n .         paste(\"Error in\", deparse(cc)[1L], \": \")\n .     else \"Error : \"\n .     stop(gettextf(\"Package %s version %s cannot be unloaded:\\n %s\", \n .         sQuote(package), oldversion, paste0(P, conditionMessage(e), \n .             \"\\n\")), domain = NA)\n . })",
      "3. tryCatchList(expr, classes, parentenv, handlers)",
      "4. tryCatchOne(expr, names, parentenv, handlers[[1L]])",
      "5. value[[3L]](cond)",
      "6. stop(gettextf(\"Package %s version %s cannot be unloaded:\\n %s\", \n .     sQuote(package), oldversion, paste0(P, conditionMessage(e), \n .         \"\\n\")), domain = NA)"
     ]
    }
   ],
   "source": [
    "#installed packages for the libraries \n",
    "# initialising libraries\n",
    "library(tidyverse)\n",
    "library(rvest)\n",
    "library(readr)\n",
    "library(skimr)\n",
    "library(visdat)\n",
    "library(purrr)\n",
    "library(stringr)\n",
    "library(glue)\n",
    "library(jsonlite)"
   ]
  },
  {
   "cell_type": "code",
   "execution_count": 71,
   "id": "a2b5f671-4430-4870-961a-ed530e390e10",
   "metadata": {},
   "outputs": [
    {
     "data": {
      "text/html": [
       "'https://services2.arcgis.com/JkPEgZJGxhSjYOo0/arcgis/rest/services/TrafficService/FeatureServer/0/query?where=1%3D1&amp;outFields=*&amp;outSR=4326&amp;f=json'"
      ],
      "text/latex": [
       "'https://services2.arcgis.com/JkPEgZJGxhSjYOo0/arcgis/rest/services/TrafficService/FeatureServer/0/query?where=1\\%3D1\\&outFields=*\\&outSR=4326\\&f=json'"
      ],
      "text/markdown": [
       "'https://services2.arcgis.com/JkPEgZJGxhSjYOo0/arcgis/rest/services/TrafficService/FeatureServer/0/query?where=1%3D1&amp;outFields=*&amp;outSR=4326&amp;f=json'"
      ],
      "text/plain": [
       "[1] \"https://services2.arcgis.com/JkPEgZJGxhSjYOo0/arcgis/rest/services/TrafficService/FeatureServer/0/query?where=1%3D1&outFields=*&outSR=4326&f=json\""
      ]
     },
     "metadata": {},
     "output_type": "display_data"
    },
    {
     "ename": "ERROR",
     "evalue": "Error in GET(url = \"https://services2.arcgis.com/JkPEgZJGxhSjYOo0/arcgis/rest/services/TrafficService/FeatureServer/0/query?where=1%3D1&outFields=*&outSR=4326&f=json\"): could not find function \"GET\"\n",
     "output_type": "error",
     "traceback": [
      "Error in GET(url = \"https://services2.arcgis.com/JkPEgZJGxhSjYOo0/arcgis/rest/services/TrafficService/FeatureServer/0/query?where=1%3D1&outFields=*&outSR=4326&f=json\"): could not find function \"GET\"\nTraceback:\n"
     ]
    }
   ],
   "source": [
    "# setting up the API query for cycle lane in auckland transport data \n",
    "api <- 'https://services2.arcgis.com/JkPEgZJGxhSjYOo0/arcgis/rest/services/TrafficService/FeatureServer/0/query?where=1%3D1&outFields=*&outSR=4326&f=json'\n",
    "api\n",
    "\n",
    "#API = GET(url = \"https://services2.arcgis.com/JkPEgZJGxhSjYOo0/arcgis/rest/services/TrafficService/FeatureServer/0/query?where=1%3D1&outFields=*&outSR=4326&f=json\")\n",
    "#API"
   ]
  },
  {
   "cell_type": "code",
   "execution_count": 69,
   "id": "21f922bb-5429-48d0-bc2a-534471a9e623",
   "metadata": {},
   "outputs": [
    {
     "ename": "ERROR",
     "evalue": "Error in fromJSON(api, flatten = TRUE): could not find function \"fromJSON\"\n",
     "output_type": "error",
     "traceback": [
      "Error in fromJSON(api, flatten = TRUE): could not find function \"fromJSON\"\nTraceback:\n"
     ]
    }
   ],
   "source": [
    "\n",
    "#reading JSON \n",
    "biketransport <- fromJSON(api, flatten = TRUE)\n",
    "\n",
    "biketransport %>%\n",
    "    glimpse()"
   ]
  },
  {
   "cell_type": "code",
   "execution_count": 39,
   "id": "14707570-c9a3-48e0-b40d-a693cd1db098",
   "metadata": {},
   "outputs": [
    {
     "ename": "ERROR",
     "evalue": "Error in as.data.frame(traffic_raw$fields): object 'traffic_raw' not found\n",
     "output_type": "error",
     "traceback": [
      "Error in as.data.frame(traffic_raw$fields): object 'traffic_raw' not found\nTraceback:\n",
      "1. as.data.frame(traffic_raw$fields)"
     ]
    }
   ],
   "source": [
    "\n",
    "bikefields <-as.dataframe(biketransport$fields) \n",
    "bikedata <-as.dataframe(biketransport$fields) \n",
    "bikedata %>%\n",
    "    glimpse\n",
    "#both elements displaying fields and festures and turning both elements into a dataframe"
   ]
  },
  {
   "cell_type": "code",
   "execution_count": null,
   "id": "b01f972b-3d59-4918-a91e-950264f05b6b",
   "metadata": {},
   "outputs": [],
   "source": [
    "#filtering only OFF-ROAD SHARED PATH \n",
    "bike_data <- bikedata %>%\n",
    "    filter(TYPE_OF_FACILITY == \"OFF-ROAD SHARED PATH\")\n",
    "\n",
    "#removing unwanted columns\n",
    "bike_data <- select(bike_data, -count_duration)\n",
    "\n",
    "#renaming column title\n",
    "bike_data <- bike_data %>% rename(\n",
    "    Council_Board = LOCAL_BOARD)\n",
    "\n",
    "bike_data <- c(1,2,3,NA) is.na(bike_data)"
   ]
  },
  {
   "cell_type": "code",
   "execution_count": null,
   "id": "e13cdb92-4fe7-4c44-bfbd-ac71b2450660",
   "metadata": {},
   "outputs": [],
   "source": [
    "bike_data %>%\n",
    "    write_csv(\"bike_data.csv\")"
   ]
  }
 ],
 "metadata": {
  "kernelspec": {
   "display_name": "R",
   "language": "R",
   "name": "ir"
  },
  "language_info": {
   "codemirror_mode": "r",
   "file_extension": ".r",
   "mimetype": "text/x-r-source",
   "name": "R",
   "pygments_lexer": "r",
   "version": "4.2.1"
  }
 },
 "nbformat": 4,
 "nbformat_minor": 5
}
